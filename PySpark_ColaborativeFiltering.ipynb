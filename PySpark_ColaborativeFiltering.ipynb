{
  "nbformat": 4,
  "nbformat_minor": 0,
  "metadata": {
    "colab": {
      "provenance": []
    },
    "kernelspec": {
      "name": "python3",
      "display_name": "Python 3"
    },
    "language_info": {
      "name": "python"
    }
  },
  "cells": [
    {
      "cell_type": "code",
      "execution_count": 1,
      "metadata": {
        "id": "FHlo6aZuXo4G",
        "colab": {
          "base_uri": "https://localhost:8080/"
        },
        "outputId": "fb803694-5331-438b-b61f-ff918d1ed734"
      },
      "outputs": [
        {
          "output_type": "stream",
          "name": "stdout",
          "text": [
            "Collecting pyspark\n",
            "  Downloading pyspark-3.5.0.tar.gz (316.9 MB)\n",
            "\u001b[2K     \u001b[90m━━━━━━━━━━━━━━━━━━━━━━━━━━━━━━━━━━━━━━━━\u001b[0m \u001b[32m316.9/316.9 MB\u001b[0m \u001b[31m4.1 MB/s\u001b[0m eta \u001b[36m0:00:00\u001b[0m\n",
            "\u001b[?25h  Preparing metadata (setup.py) ... \u001b[?25l\u001b[?25hdone\n",
            "Requirement already satisfied: py4j==0.10.9.7 in /usr/local/lib/python3.10/dist-packages (from pyspark) (0.10.9.7)\n",
            "Building wheels for collected packages: pyspark\n",
            "  Building wheel for pyspark (setup.py) ... \u001b[?25l\u001b[?25hdone\n",
            "  Created wheel for pyspark: filename=pyspark-3.5.0-py2.py3-none-any.whl size=317425345 sha256=e5324b0c46c67760d59ccac23035d0c4ef161884206fa3eec045559c79853497\n",
            "  Stored in directory: /root/.cache/pip/wheels/41/4e/10/c2cf2467f71c678cfc8a6b9ac9241e5e44a01940da8fbb17fc\n",
            "Successfully built pyspark\n",
            "Installing collected packages: pyspark\n",
            "Successfully installed pyspark-3.5.0\n"
          ]
        }
      ],
      "source": [
        "!pip install pyspark"
      ]
    },
    {
      "cell_type": "code",
      "source": [
        "from pyspark.sql import SparkSession\n",
        "from pyspark.ml.evaluation import RegressionEvaluator\n",
        "from pyspark.ml.recommendation import ALS"
      ],
      "metadata": {
        "id": "PkbQfvJVX1ss"
      },
      "execution_count": 2,
      "outputs": []
    },
    {
      "cell_type": "code",
      "source": [
        "#Setup Spark Session\n",
        "spark = SparkSession.builder.appName('Recommender').getOrCreate()\n",
        "spark"
      ],
      "metadata": {
        "id": "7rYSnTA2X4OY",
        "colab": {
          "base_uri": "https://localhost:8080/",
          "height": 219
        },
        "outputId": "2ca762ce-e8a1-4a1d-eaba-dce075aee7d9"
      },
      "execution_count": 3,
      "outputs": [
        {
          "output_type": "execute_result",
          "data": {
            "text/plain": [
              "<pyspark.sql.session.SparkSession at 0x7e4c4b8e2080>"
            ],
            "text/html": [
              "\n",
              "            <div>\n",
              "                <p><b>SparkSession - in-memory</b></p>\n",
              "                \n",
              "        <div>\n",
              "            <p><b>SparkContext</b></p>\n",
              "\n",
              "            <p><a href=\"http://f9dc4f835e76:4040\">Spark UI</a></p>\n",
              "\n",
              "            <dl>\n",
              "              <dt>Version</dt>\n",
              "                <dd><code>v3.5.0</code></dd>\n",
              "              <dt>Master</dt>\n",
              "                <dd><code>local[*]</code></dd>\n",
              "              <dt>AppName</dt>\n",
              "                <dd><code>Recommender</code></dd>\n",
              "            </dl>\n",
              "        </div>\n",
              "        \n",
              "            </div>\n",
              "        "
            ]
          },
          "metadata": {},
          "execution_count": 3
        }
      ]
    },
    {
      "cell_type": "code",
      "source": [
        "data = spark.read.csv('/content/book_ratings.csv', inferSchema=True,header=True)"
      ],
      "metadata": {
        "id": "n-Jq-AEOX6w8"
      },
      "execution_count": 4,
      "outputs": []
    },
    {
      "cell_type": "code",
      "source": [
        "data.show(5)"
      ],
      "metadata": {
        "id": "vT5dkVuiX86E",
        "colab": {
          "base_uri": "https://localhost:8080/"
        },
        "outputId": "ac9eb4c8-a038-4e12-d034-d70afbc1c79b"
      },
      "execution_count": 5,
      "outputs": [
        {
          "output_type": "stream",
          "name": "stdout",
          "text": [
            "+-------+-------+------+\n",
            "|book_id|user_id|rating|\n",
            "+-------+-------+------+\n",
            "|      1|    314|     5|\n",
            "|      1|    439|     3|\n",
            "|      1|    588|     5|\n",
            "|      1|   1169|     4|\n",
            "|      1|   1185|     4|\n",
            "+-------+-------+------+\n",
            "only showing top 5 rows\n",
            "\n"
          ]
        }
      ]
    },
    {
      "cell_type": "code",
      "source": [
        "data.count()"
      ],
      "metadata": {
        "id": "44v5pQHWX_A_",
        "colab": {
          "base_uri": "https://localhost:8080/"
        },
        "outputId": "e1ee6fed-e892-4ace-8a21-4418b3d5ec6c"
      },
      "execution_count": 6,
      "outputs": [
        {
          "output_type": "execute_result",
          "data": {
            "text/plain": [
              "911138"
            ]
          },
          "metadata": {},
          "execution_count": 6
        }
      ]
    },
    {
      "cell_type": "code",
      "source": [
        "data.describe().show()"
      ],
      "metadata": {
        "id": "IbCpg0rEYBqZ",
        "colab": {
          "base_uri": "https://localhost:8080/"
        },
        "outputId": "8aa100a6-f303-447f-f219-1e30c53c23f7"
      },
      "execution_count": 7,
      "outputs": [
        {
          "output_type": "stream",
          "name": "stdout",
          "text": [
            "+-------+------------------+-----------------+------------------+\n",
            "|summary|           book_id|          user_id|            rating|\n",
            "+-------+------------------+-----------------+------------------+\n",
            "|  count|            911138|           911138|            911138|\n",
            "|   mean| 4580.938824854194|25533.08371509036|3.8562468034479958|\n",
            "| stddev|2658.2302075792495|15209.42702653759| 0.984595699725942|\n",
            "|    min|                 1|                1|                 1|\n",
            "|    max|              9236|            53424|                 5|\n",
            "+-------+------------------+-----------------+------------------+\n",
            "\n"
          ]
        }
      ]
    },
    {
      "cell_type": "code",
      "source": [
        "train_data, test_data = data.randomSplit([0.8, 0.2])\n",
        "# Build the recommendation model using ALS on the training data\n",
        "als = ALS(maxIter=5, regParam=0.01, userCol=\"user_id\", itemCol=\"book_id\", ratingCol=\"rating\")\n",
        "#Fitting the model on the train_data\n",
        "model = als.fit(train_data)"
      ],
      "metadata": {
        "id": "iIM_6qUwYDi-"
      },
      "execution_count": 8,
      "outputs": []
    },
    {
      "cell_type": "code",
      "source": [
        "# Evaluate the model by computing the RMSE on the test data\n",
        "predictions = model.transform(test_data)\n",
        "#Displaying predictions calculated by the model\n",
        "predictions.show()"
      ],
      "metadata": {
        "id": "wjofF7SEYYXz",
        "colab": {
          "base_uri": "https://localhost:8080/"
        },
        "outputId": "4611cd59-c3b3-4b33-9263-da4911256583"
      },
      "execution_count": 9,
      "outputs": [
        {
          "output_type": "stream",
          "name": "stdout",
          "text": [
            "+-------+-------+------+----------+\n",
            "|book_id|user_id|rating|prediction|\n",
            "+-------+-------+------+----------+\n",
            "|      1|  12471|     5| 4.4253864|\n",
            "|      1|  16913|     5|   3.81272|\n",
            "|      2|  19942|     5| 3.9476824|\n",
            "|      2|  17984|     5| 5.3387175|\n",
            "|      1|  11927|     4|  4.196174|\n",
            "|      2|  14603|     4|  3.491901|\n",
            "|      1|  18313|     5|  4.589915|\n",
            "|      2|  10111|     5| 4.2789865|\n",
            "|      1|  13282|     5| 4.0388703|\n",
            "|      1|  17663|     5| 5.0465817|\n",
            "|      1|  10246|     4| 4.0988874|\n",
            "|      2|   1169|     3|  3.339068|\n",
            "|      1|  24499|     5| 3.6218581|\n",
            "|      1|  29123|     3| 3.2070491|\n",
            "|      2|   5885|     4| 3.9502387|\n",
            "|      1|   9246|     1| 3.6571405|\n",
            "|      1|  33872|     5|  4.364473|\n",
            "|      2|  11285|     4|  4.257736|\n",
            "|      1|  10335|     4| 4.0259557|\n",
            "|      1|  20848|     5|  4.756963|\n",
            "+-------+-------+------+----------+\n",
            "only showing top 20 rows\n",
            "\n"
          ]
        }
      ]
    },
    {
      "cell_type": "code",
      "source": [
        "#Filtering user with user id \"5461\" with book id on which it has given the reviews\n",
        "user1 = test_data.filter(test_data['user_id']==5461).select(['book_id','user_id'])\n",
        "#Displaying user1 data\n",
        "user1.show()"
      ],
      "metadata": {
        "id": "MZL35jlkYZMy",
        "colab": {
          "base_uri": "https://localhost:8080/"
        },
        "outputId": "370e1520-7995-495e-9303-f090e68c0117"
      },
      "execution_count": 10,
      "outputs": [
        {
          "output_type": "stream",
          "name": "stdout",
          "text": [
            "+-------+-------+\n",
            "|book_id|user_id|\n",
            "+-------+-------+\n",
            "|      9|   5461|\n",
            "|     14|   5461|\n",
            "|     28|   5461|\n",
            "|     31|   5461|\n",
            "|     37|   5461|\n",
            "|     38|   5461|\n",
            "|     57|   5461|\n",
            "|     80|   5461|\n",
            "|    115|   5461|\n",
            "|    118|   5461|\n",
            "|    123|   5461|\n",
            "|    129|   5461|\n",
            "|    157|   5461|\n",
            "|    233|   5461|\n",
            "|    255|   5461|\n",
            "|    323|   5461|\n",
            "|    358|   5461|\n",
            "|    461|   5461|\n",
            "|    521|   5461|\n",
            "|    577|   5461|\n",
            "+-------+-------+\n",
            "only showing top 20 rows\n",
            "\n"
          ]
        }
      ]
    },
    {
      "cell_type": "code",
      "source": [
        "user1.count()"
      ],
      "metadata": {
        "id": "9oHVZfHeYcM3",
        "colab": {
          "base_uri": "https://localhost:8080/"
        },
        "outputId": "8d6c7f69-0925-455a-d90d-dc50422594f9"
      },
      "execution_count": 11,
      "outputs": [
        {
          "output_type": "execute_result",
          "data": {
            "text/plain": [
              "35"
            ]
          },
          "metadata": {},
          "execution_count": 11
        }
      ]
    },
    {
      "cell_type": "code",
      "source": [
        "#Traning and evaluating for user1 with our model trained with the help of training data\n",
        "recommendations = model.transform(user1)\n",
        "#Displaying the predictions of books for user1\n",
        "recommendations.orderBy('prediction',ascending=False).show()"
      ],
      "metadata": {
        "id": "jerOYRA9Yeeu",
        "colab": {
          "base_uri": "https://localhost:8080/"
        },
        "outputId": "d7b4cd6d-86fe-4c5f-b21a-8d0d6c286b44"
      },
      "execution_count": 12,
      "outputs": [
        {
          "output_type": "stream",
          "name": "stdout",
          "text": [
            "+-------+-------+----------+\n",
            "|book_id|user_id|prediction|\n",
            "+-------+-------+----------+\n",
            "|    757|   5461| 4.5889993|\n",
            "|   1402|   5461| 4.5177164|\n",
            "|    157|   5461| 4.4611073|\n",
            "|     37|   5461| 4.4402065|\n",
            "|    358|   5461| 4.4117694|\n",
            "|    129|   5461|  4.411402|\n",
            "|     80|   5461| 4.3915987|\n",
            "|     28|   5461|  4.379265|\n",
            "|    461|   5461| 4.3406534|\n",
            "|   2854|   5461|  4.292382|\n",
            "|    577|   5461|  4.251686|\n",
            "|     31|   5461| 4.2478514|\n",
            "|    844|   5461| 4.1997724|\n",
            "|   1211|   5461|  4.185651|\n",
            "|     57|   5461| 4.1813188|\n",
            "|    115|   5461|  4.127841|\n",
            "|   4759|   5461|  4.124883|\n",
            "|    323|   5461| 4.0728273|\n",
            "|     38|   5461|  4.045744|\n",
            "|    233|   5461| 4.0447946|\n",
            "+-------+-------+----------+\n",
            "only showing top 20 rows\n",
            "\n"
          ]
        }
      ]
    },
    {
      "cell_type": "code",
      "source": [
        "recommendations.show()"
      ],
      "metadata": {
        "id": "mL5azKIcYh00",
        "colab": {
          "base_uri": "https://localhost:8080/"
        },
        "outputId": "3aa9a92d-09fa-4e7b-ab07-70e2028a210f"
      },
      "execution_count": 13,
      "outputs": [
        {
          "output_type": "stream",
          "name": "stdout",
          "text": [
            "+-------+-------+----------+\n",
            "|book_id|user_id|prediction|\n",
            "+-------+-------+----------+\n",
            "|      9|   5461| 2.9475477|\n",
            "|     14|   5461| 4.0005703|\n",
            "|     28|   5461|  4.379265|\n",
            "|     31|   5461| 4.2478514|\n",
            "|     37|   5461| 4.4402065|\n",
            "|     38|   5461|  4.045744|\n",
            "|     57|   5461| 4.1813188|\n",
            "|     80|   5461| 4.3915987|\n",
            "|    115|   5461|  4.127841|\n",
            "|    118|   5461| 3.8298192|\n",
            "|    123|   5461| 3.8117502|\n",
            "|    129|   5461|  4.411402|\n",
            "|    157|   5461| 4.4611073|\n",
            "|    233|   5461| 4.0447946|\n",
            "|    255|   5461|  3.655685|\n",
            "|    323|   5461| 4.0728273|\n",
            "|    358|   5461| 4.4117694|\n",
            "|    461|   5461| 4.3406534|\n",
            "|    521|   5461|  3.326486|\n",
            "|    577|   5461|  4.251686|\n",
            "+-------+-------+----------+\n",
            "only showing top 20 rows\n",
            "\n"
          ]
        }
      ]
    }
  ]
}